{
 "cells": [
  {
   "cell_type": "code",
   "execution_count": 3,
   "metadata": {},
   "outputs": [
    {
     "ename": "SyntaxError",
     "evalue": "Missing parentheses in call to 'print'. Did you mean print(\"<H1>Name & Age not Entered</H1>\")? (<ipython-input-3-d4bb80679ce5>, line 5)",
     "output_type": "error",
     "traceback": [
      "\u001b[1;36m  File \u001b[1;32m\"<ipython-input-3-d4bb80679ce5>\"\u001b[1;36m, line \u001b[1;32m5\u001b[0m\n\u001b[1;33m    print \"<H1>Name & Age not Entered</H1>\"\u001b[0m\n\u001b[1;37m          ^\u001b[0m\n\u001b[1;31mSyntaxError\u001b[0m\u001b[1;31m:\u001b[0m Missing parentheses in call to 'print'. Did you mean print(\"<H1>Name & Age not Entered</H1>\")?\n"
     ]
    }
   ],
   "source": [
    "import cgi\n",
    "\n",
    "form = cgi.FieldStorage()\n",
    "if not (form.has_key(\"name\") and form.has_key(\"age\")):\n",
    "    print \"<H1>Name & Age not Entered</H1>\"\n",
    "    print \"Fill the Name & Age accurately.\"\n",
    "    return\n",
    "    print \"<p>name:\", form[\"name\"].value\n",
    "    print \"<p>Age:\", form[\"age\"].value"
   ]
  },
  {
   "cell_type": "code",
   "execution_count": null,
   "metadata": {},
   "outputs": [],
   "source": []
  }
 ],
 "metadata": {
  "kernelspec": {
   "display_name": "Python 3",
   "language": "python",
   "name": "python3"
  },
  "language_info": {
   "codemirror_mode": {
    "name": "ipython",
    "version": 3
   },
   "file_extension": ".py",
   "mimetype": "text/x-python",
   "name": "python",
   "nbconvert_exporter": "python",
   "pygments_lexer": "ipython3",
   "version": "3.8.3"
  }
 },
 "nbformat": 4,
 "nbformat_minor": 4
}
